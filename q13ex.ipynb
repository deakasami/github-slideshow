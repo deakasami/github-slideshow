{
  "nbformat": 4,
  "nbformat_minor": 0,
  "metadata": {
    "colab": {
      "name": "Untitled2.ipynb",
      "provenance": [],
      "authorship_tag": "ABX9TyPs5Dyrk5KyTgFZ7s+hu3j1",
      "include_colab_link": true
    },
    "kernelspec": {
      "name": "python3",
      "display_name": "Python 3"
    },
    "language_info": {
      "name": "python"
    }
  },
  "cells": [
    {
      "cell_type": "markdown",
      "metadata": {
        "id": "view-in-github",
        "colab_type": "text"
      },
      "source": [
        "<a href=\"https://colab.research.google.com/github/deakasami/github-slideshow/blob/intro-1/q13ex.ipynb\" target=\"_parent\"><img src=\"https://colab.research.google.com/assets/colab-badge.svg\" alt=\"Open In Colab\"/></a>"
      ]
    },
    {
      "cell_type": "code",
      "metadata": {
        "id": "vo9ieTGvfY7v"
      },
      "source": [
        "import numpy as np\n",
        "\n",
        "A1 = np.array([[0.21 ,0.49, 2.45, 3.08, 5.10 ,6.22, 7.26],\n",
        "[7.69 ,8.40, 9.08, 10.87, 11.34, 12.79, 15.44],\n",
        "[17.30 ,18.69, 20.90, 24.88, 25.27, 26.53, 30.28],\n",
        "[31.81 ,32.67, 35.60, 36.35, 37.01, 37.04, 37.56]]) #just in case\n",
        "\n",
        "A = [0.21 ,0.49, 2.45, 3.08, 5.10 ,6.22, 7.26,7.69 ,8.40, 9.08, 10.87, 11.34, 12.79, 15.44,\n",
        "17.30 ,18.69, 20.90, 24.88, 25.27, 26.53, 30.28,\n",
        "[31.81 ,32.67, 35.60, 36.35, 37.01, 37.04, 37.56]\n",
        "\n",
        "\n",
        "S = [2.31, 3.90, 2.19 ,2.34, 5.40, 6.61, 2.73,7.00, 4.27 ,2.10, 1.50 ,1.99, 4.97,2.10,\n",
        "5.98 ,3.32 ,1.71 ,3.07, 7.59, 2.25, 4.95,4.39,\n",
        "7.03, 2.79 ,6.51, 6.49, 1.73, 4.26]\n",
        "\n"
      ],
      "execution_count": null,
      "outputs": []
    },
    {
      "cell_type": "code",
      "metadata": {
        "id": "-yNPnc7DkIgp"
      },
      "source": [
        "\n",
        "X = [0,0,0,0,0,0,0,0,0,0,0,0,0,0,0,0,0,0,0,0,0,0,0,0,0,0,0,0]\n",
        "for i in range(1, len(A)):\n",
        "   X[i] = A[i] - A[i-1]\n",
        "   X #interarrival\n",
        "\n",
        "W = [0,0,0,0,0,0,0,0,0,0,0,0,0,0,0,0,0,0,0,0,0,0,0,0,0,0,0,0]\n",
        "for i in range(1, len(A)):\n",
        " W[i] = max(W[i - 1] + S[i - 1] - X[i], 0)\n",
        " print(W) #waiting time in queue\n",
        "\n",
        "\n",
        "J = [0,0,0,0,0,0,0,0,0,0,0,0,0,0,0,0,0,0,0,0,0,0,0,0,0,0,0,0]\n",
        "for i in range(1, len(X)):\n",
        " J[i] = W[i] + S[i] #sojourn times(also as J = D-A) so the answer is J = 11.16 the time between the arrival and departure of job 5\n",
        " J\n",
        " D = [0,0,0,0,0,0,0,0,0,0,0,0,0,0,0,0,0,0,0,0,0,0,0,0,0,0,0,0]\n",
        "for i in range(1, len(X)):\n",
        " D[i] = A[i] + W[i] + S[i]\n",
        " D #departures\n"
      ],
      "execution_count": null,
      "outputs": []
    }
  ]
}