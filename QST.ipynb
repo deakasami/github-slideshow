{
  "nbformat": 4,
  "nbformat_minor": 0,
  "metadata": {
    "colab": {
      "name": "Untitled0.ipynb",
      "provenance": [],
      "authorship_tag": "ABX9TyOB9AZWo0Eyp603ICFTNWdB",
      "include_colab_link": true
    },
    "kernelspec": {
      "name": "python3",
      "display_name": "Python 3"
    },
    "language_info": {
      "name": "python"
    }
  },
  "cells": [
    {
      "cell_type": "markdown",
      "metadata": {
        "id": "view-in-github",
        "colab_type": "text"
      },
      "source": [
        "<a href=\"https://colab.research.google.com/github/deakasami/github-slideshow/blob/intro-1/QST.ipynb\" target=\"_parent\"><img src=\"https://colab.research.google.com/assets/colab-badge.svg\" alt=\"Open In Colab\"/></a>"
      ]
    },
    {
      "cell_type": "code",
      "metadata": {
        "id": "2spxSY8ih9XQ"
      },
      "source": [
        "D =[10.55, 13.97, 16.99, 23.56, 24.34, 32.67, 35.52,\n",
        "43.36, 43.67, 45.91 ,53.67 ,60.66, 67.22 ,69.32,\n",
        "76.99, 78.43, 84.52, 86.81, 90.96, 93.25 ,100.10,\n",
        "107.21, 112.04, 117.26 ,117.96, 124.35, 132.14 ,135.49]"
      ],
      "execution_count": 2,
      "outputs": []
    },
    {
      "cell_type": "code",
      "metadata": {
        "id": "M00CEYuXiTrX"
      },
      "source": [
        "import numpy as geek\n",
        "\n",
        "import numpy as np\n",
        "\n",
        "x = [4]\n",
        "S= np.repeat(4, 28, axis=0)\n",
        "S\n",
        "A=D-S\n",
        "A\n"
      ],
      "execution_count": 17,
      "outputs": []
    },
    {
      "cell_type": "code",
      "metadata": {
        "colab": {
          "base_uri": "https://localhost:8080/"
        },
        "id": "vjvu6QO6iTkX",
        "outputId": "c151dcfc-f34f-4a9c-fd91-3e76fc922bbe"
      },
      "source": [
        ""
      ],
      "execution_count": 21,
      "outputs": [
        {
          "output_type": "execute_result",
          "data": {
            "text/plain": [
              "1880.3699999999997"
            ]
          },
          "metadata": {
            "tags": []
          },
          "execution_count": 21
        }
      ]
    },
    {
      "cell_type": "code",
      "metadata": {
        "colab": {
          "base_uri": "https://localhost:8080/"
        },
        "id": "jiwKlr1k-BaH",
        "outputId": "abb59318-c3b2-4c46-c85d-047e1bdb2c3c"
      },
      "source": [
        "c =2\n",
        "p=[0.4, 0.3, 0.2, 0.05, 0.05]\n",
        "l = 10 / 60\n",
        "\n",
        "EL = sum(n*p[n] for n in range(len(p)))\n",
        "EL\n",
        "\n",
        "EQ = sum(max(n-c, 0)* p[n] for n in range(len(p)))\n",
        "EQ\n",
        "\n",
        "W = EQ/l\n",
        "W\n",
        "\n",
        "J=EL/l\n",
        "J\n",
        "\n",
        "VARL = sum((n-EL)**2 * p[n] for n in range(len(p)))\n",
        "VARL\n",
        "\n",
        "VARQ = sum((max(n-c,0) -EQ)**2 *p[n] for n in range(len(p)))\n",
        "VARQ\n"
      ],
      "execution_count": 1,
      "outputs": [
        {
          "output_type": "execute_result",
          "data": {
            "text/plain": [
              "0.22750000000000004"
            ]
          },
          "metadata": {
            "tags": []
          },
          "execution_count": 1
        }
      ]
    },
    {
      "cell_type": "code",
      "metadata": {
        "colab": {
          "base_uri": "https://localhost:8080/"
        },
        "id": "YsgNmfkXiTch",
        "outputId": "59198158-11c0-472e-b526-4b8fa6e9311e"
      },
      "source": [
        "EL"
      ],
      "execution_count": 2,
      "outputs": [
        {
          "output_type": "execute_result",
          "data": {
            "text/plain": [
              "1.05"
            ]
          },
          "metadata": {
            "tags": []
          },
          "execution_count": 2
        }
      ]
    },
    {
      "cell_type": "code",
      "metadata": {
        "colab": {
          "base_uri": "https://localhost:8080/"
        },
        "id": "YxPjHzgT_Knr",
        "outputId": "56df7d18-07d3-43f0-c021-7a0af4b8117f"
      },
      "source": [
        "EQ"
      ],
      "execution_count": 3,
      "outputs": [
        {
          "output_type": "execute_result",
          "data": {
            "text/plain": [
              "0.15000000000000002"
            ]
          },
          "metadata": {
            "tags": []
          },
          "execution_count": 3
        }
      ]
    },
    {
      "cell_type": "code",
      "metadata": {
        "colab": {
          "base_uri": "https://localhost:8080/"
        },
        "id": "unK27bvF_M1N",
        "outputId": "2462bdb6-4298-4c73-9dc2-a5d0e63246e3"
      },
      "source": [
        "VARQ"
      ],
      "execution_count": 4,
      "outputs": [
        {
          "output_type": "execute_result",
          "data": {
            "text/plain": [
              "0.22750000000000004"
            ]
          },
          "metadata": {
            "tags": []
          },
          "execution_count": 4
        }
      ]
    },
    {
      "cell_type": "code",
      "metadata": {
        "id": "jCMMIhbQMt6c"
      },
      "source": [
        "import numpy as np\n",
        "np.set_printoptions(precision = 3)\n",
        "\n",
        "l , mu , c = 6, 5 ,1\n",
        "rho = l / mu\n",
        "K = c+2"
      ],
      "execution_count": 6,
      "outputs": []
    },
    {
      "cell_type": "code",
      "metadata": {
        "colab": {
          "base_uri": "https://localhost:8080/"
        },
        "id": "hNPqqwK6NAjX",
        "outputId": "cfe3597b-836c-496f-aa6d-61b00cd2ecb6"
      },
      "source": [
        "p = np.array([rho**n for n in range(K+1)])\n",
        "G = sum(p)\n",
        "p\n"
      ],
      "execution_count": 11,
      "outputs": [
        {
          "output_type": "execute_result",
          "data": {
            "text/plain": [
              "array([1.   , 1.2  , 1.44 , 1.728])"
            ]
          },
          "metadata": {
            "tags": []
          },
          "execution_count": 11
        }
      ]
    },
    {
      "cell_type": "code",
      "metadata": {
        "colab": {
          "base_uri": "https://localhost:8080/"
        },
        "id": "dw6rZRt7NjXj",
        "outputId": "3a313473-cc32-4c6c-e64a-ef89406183ff"
      },
      "source": [
        "p /= G\n",
        "p\n",
        "\n",
        "L = sum(n*p[n] for n in range(len(p)))\n",
        "L\n",
        "\n",
        "Q= sum(max(n-c,0)*p[n] for n in range(len(p)))\n",
        "Q\n",
        "\n",
        "lost = l *p[-1]\n",
        "l - lost # served\n",
        "\n",
        "#Buffer size of b = 5\n",
        "c#nr of servers\n",
        "\n",
        "K = c+5\n",
        "p = np.array([rho**n for n in range(K+1)])\n",
        "G = sum(p)\n",
        "p /=G\n",
        "lost = l*p[-1] #the last element of P\n",
        "l - lost #accepted hence servecd"
      ],
      "execution_count": 9,
      "outputs": [
        {
          "output_type": "execute_result",
          "data": {
            "text/plain": [
              "array([0.186, 0.224, 0.268, 0.322])"
            ]
          },
          "metadata": {
            "tags": []
          },
          "execution_count": 9
        }
      ]
    },
    {
      "cell_type": "code",
      "metadata": {
        "id": "ERh-8lwmRj40"
      },
      "source": [
        ""
      ],
      "execution_count": null,
      "outputs": []
    }
  ]
}