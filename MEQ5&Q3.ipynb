{
  "nbformat": 4,
  "nbformat_minor": 0,
  "metadata": {
    "colab": {
      "name": "Untitled1.ipynb",
      "provenance": [],
      "authorship_tag": "ABX9TyMwisr0uCSQfkPO7ggoAL50",
      "include_colab_link": true
    },
    "kernelspec": {
      "name": "python3",
      "display_name": "Python 3"
    },
    "language_info": {
      "name": "python"
    }
  },
  "cells": [
    {
      "cell_type": "markdown",
      "metadata": {
        "id": "view-in-github",
        "colab_type": "text"
      },
      "source": [
        "<a href=\"https://colab.research.google.com/github/deakasami/github-slideshow/blob/intro-1/MEQ5%26Q3.ipynb\" target=\"_parent\"><img src=\"https://colab.research.google.com/assets/colab-badge.svg\" alt=\"Open In Colab\"/></a>"
      ]
    },
    {
      "cell_type": "code",
      "metadata": {
        "id": "YXWqwK92c0k7"
      },
      "source": [
        "#q5ME\n",
        "#G/G/1 \n",
        "#Queue length as seen by the 10th job\n",
        "import numpy as np\n",
        "n = np.random.randint(13,20)\n",
        "inter = np.random.uniform(3, 5, size = n)\n",
        "service = np.random.uniform(3, 5, size=n)"
      ],
      "execution_count": 2,
      "outputs": []
    },
    {
      "cell_type": "code",
      "metadata": {
        "colab": {
          "base_uri": "https://localhost:8080/"
        },
        "id": "m5pvH4iRdSLC",
        "outputId": "b4d7b178-41c5-4ebd-ba92-b6266416783c"
      },
      "source": [
        "A = np.zeros(n+1)\n",
        "\n",
        "A[1:] = inter.cumsum()\n",
        "A\n",
        "\n",
        "D = np.zeros(n+1)\n",
        " for i in range(1, len(D))\n",
        "    D[i] = max(D[i-1], A[i])+ service[i-1]\n",
        "\n",
        " D   \n",
        "\n",
        " W = D - A\n",
        " W"
      ],
      "execution_count": 3,
      "outputs": [
        {
          "output_type": "execute_result",
          "data": {
            "text/plain": [
              "array([ 0.        ,  3.30383344,  7.64449336, 11.83396978, 15.84154951,\n",
              "       20.06613015, 23.66198408, 26.70200499, 29.89689231, 34.18690735,\n",
              "       38.1977359 , 43.07067767, 47.00420347, 51.49623314])"
            ]
          },
          "metadata": {
            "tags": []
          },
          "execution_count": 3
        }
      ]
    },
    {
      "cell_type": "code",
      "metadata": {
        "id": "tjuVHoP_dqJm"
      },
      "source": [
        "from heapq import heappop, heappush\n",
        "\n",
        "stack = []\n",
        "\n",
        "for t in A[1:]:\n",
        "    heappush(stack, (t,1))\n",
        "for t in D[1:]:\n",
        "    heappush(stack, (t, -1))\n",
        "\n",
        "finish = A[10]\n",
        "t = 0\n",
        "L = 0\n",
        "\n",
        "while t < finish \n",
        "     time, ev = heappop(stack)\n",
        "     print(time, ev, L)\n",
        "     L += ev\n",
        "     t = time"
      ],
      "execution_count": null,
      "outputs": []
    },
    {
      "cell_type": "code",
      "metadata": {
        "colab": {
          "base_uri": "https://localhost:8080/"
        },
        "id": "9G_-wi1WecYP",
        "outputId": "c4abcfc3-3f0d-4eee-8735-a67d925967fa"
      },
      "source": [
        "#q3ME M/M/1 \n",
        "\n",
        "import numpy as np\n",
        "mu2 = 6\n",
        "\n",
        "P= np.array([[0,1],[1/7,2/9]])\n",
        "P\n",
        "\n",
        "gamma = np.array([2,0])\n",
        "labda = gamma @np.linalg.inv(np.eye(2)-P) #lam = gamma(I - P)^-1\n",
        "print(labda)\n",
        "\n",
        "#time avg expected nr of jobs at second station EL2\n",
        "labda2 = 3.15\n",
        "rho2 = labda2 / mu2\n",
        "EL2 = rho2/(1-rho2)\n",
        "\n",
        "print(EL2)"
      ],
      "execution_count": 9,
      "outputs": [
        {
          "output_type": "stream",
          "text": [
            "[2.45 3.15]\n",
            "1.105263157894737\n"
          ],
          "name": "stdout"
        }
      ]
    }
  ]
}