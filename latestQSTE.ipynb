{
  "nbformat": 4,
  "nbformat_minor": 0,
  "metadata": {
    "colab": {
      "name": "Untitled1.ipynb",
      "provenance": [],
      "authorship_tag": "ABX9TyORlWFEQWC2gvXsoueWBjeT",
      "include_colab_link": true
    },
    "kernelspec": {
      "name": "python3",
      "display_name": "Python 3"
    },
    "language_info": {
      "name": "python"
    }
  },
  "cells": [
    {
      "cell_type": "markdown",
      "metadata": {
        "id": "view-in-github",
        "colab_type": "text"
      },
      "source": [
        "<a href=\"https://colab.research.google.com/github/deakasami/github-slideshow/blob/intro-1/latestQSTE.ipynb\" target=\"_parent\"><img src=\"https://colab.research.google.com/assets/colab-badge.svg\" alt=\"Open In Colab\"/></a>"
      ]
    },
    {
      "cell_type": "code",
      "metadata": {
        "id": "YXWqwK92c0k7"
      },
      "source": [
        "#q5ME\n",
        "#G/G/1 \n",
        "#Queue length as seen by the 10th job\n",
        "import numpy as np\n",
        "n = np.random.randint(13,20)\n",
        "inter = np.random.uniform(3, 5, size = n)\n",
        "service = np.random.uniform(3, 5, size=n)"
      ],
      "execution_count": 2,
      "outputs": []
    },
    {
      "cell_type": "code",
      "metadata": {
        "colab": {
          "base_uri": "https://localhost:8080/"
        },
        "id": "m5pvH4iRdSLC",
        "outputId": "b4d7b178-41c5-4ebd-ba92-b6266416783c"
      },
      "source": [
        "A = np.zeros(n+1)\n",
        "\n",
        "A[1:] = inter.cumsum()\n",
        "A\n",
        "\n",
        "D = np.zeros(n+1)\n",
        " for i in range(1, len(D))\n",
        "    D[i] = max(D[i-1], A[i])+ service[i-1]\n",
        "\n",
        " D   \n",
        "\n",
        " W = D - A\n",
        " W"
      ],
      "execution_count": 3,
      "outputs": [
        {
          "output_type": "execute_result",
          "data": {
            "text/plain": [
              "array([ 0.        ,  3.30383344,  7.64449336, 11.83396978, 15.84154951,\n",
              "       20.06613015, 23.66198408, 26.70200499, 29.89689231, 34.18690735,\n",
              "       38.1977359 , 43.07067767, 47.00420347, 51.49623314])"
            ]
          },
          "metadata": {
            "tags": []
          },
          "execution_count": 3
        }
      ]
    },
    {
      "cell_type": "code",
      "metadata": {
        "id": "tjuVHoP_dqJm"
      },
      "source": [
        "from heapq import heappop, heappush\n",
        "\n",
        "stack = []\n",
        "\n",
        "for t in A[1:]:\n",
        "    heappush(stack, (t,1))\n",
        "for t in D[1:]:\n",
        "    heappush(stack, (t, -1))\n",
        "\n",
        "finish = A[10]\n",
        "t = 0\n",
        "L = 0\n",
        "\n",
        "while t < finish \n",
        "     time, ev = heappop(stack)\n",
        "     print(time, ev, L)\n",
        "     L += ev\n",
        "     t = time"
      ],
      "execution_count": null,
      "outputs": []
    },
    {
      "cell_type": "code",
      "metadata": {
        "colab": {
          "base_uri": "https://localhost:8080/"
        },
        "id": "9G_-wi1WecYP",
        "outputId": "c4abcfc3-3f0d-4eee-8735-a67d925967fa"
      },
      "source": [
        "#q3ME M/M/1 \n",
        "\n",
        "import numpy as np\n",
        "mu2 = 6\n",
        "\n",
        "P= np.array([[0,1],[1/7,2/9]])\n",
        "P\n",
        "\n",
        "gamma = np.array([2,0])\n",
        "labda = gamma @np.linalg.inv(np.eye(2)-P) #lam = gamma(I - P)^-1\n",
        "print(labda)\n",
        "\n",
        "#time avg expected nr of jobs at second station EL2\n",
        "labda2 = 3.15\n",
        "rho2 = labda2 / mu2\n",
        "EL2 = rho2/(1-rho2)\n",
        "\n",
        "print(EL2)"
      ],
      "execution_count": 9,
      "outputs": [
        {
          "output_type": "stream",
          "text": [
            "[2.45 3.15]\n",
            "1.105263157894737\n"
          ],
          "name": "stdout"
        }
      ]
    },
    {
      "cell_type": "code",
      "metadata": {
        "id": "DLjQa8aU7wWo"
      },
      "source": [
        "import numpy as np\n",
        "\n",
        "\n",
        "labda = np.array([10, 15, 15, 10, 5])\n",
        "mu = np.array([0, 5, 10 , 10 , 10 , 10])\n",
        "\n",
        "\n",
        "c=2\n",
        "\n",
        "p = np.ones_like(mu)\n",
        "for i in range(len(labda)):\n",
        "   p[i+1] = labda[i] *p[i]/ mu[i+1]\n",
        "p /= p.sum()\n",
        "labdaBar = sum(labda[n] * p[n] for n in range(len(labda)))\n",
        "L = sum(n * p[n] for n in range(len(p)))\n",
        "Q = sum(max(n - c,0) * p[n] for n in range(len(p)))\n",
        "J = L / labdaBar\n",
        "W = Q / labdaBar\n",
        "\n"
      ],
      "execution_count": 14,
      "outputs": []
    },
    {
      "cell_type": "code",
      "metadata": {
        "colab": {
          "base_uri": "https://localhost:8080/"
        },
        "id": "rSFBrhXj7wPC",
        "outputId": "73d2cd99-92e4-4afc-d224-76099e1fac02"
      },
      "source": [
        "#6.25  #q11 exam\n",
        "#Determine nr of servers and find EW\n",
        "\n",
        "labda =  7.22\n",
        "ES = 0.33\n",
        "  \n",
        "\n",
        "(##G + G+#)^^ G =SUM^(n-1)_{n=0}(cp)^n/n! + (cp)^c/(1-p)c! for M/M/c queue\n",
        "#return... is EQ =(cp)^c / (factorial(c) * G) * p / (1-p)^ 2\n",
        "#and then LITTLES LAW gives EW=EQ/lambda\n",
        "from math import factorial\n",
        "def Q(labda, ES, c):\n",
        "\n",
        " rho = labda * ES / c\n",
        " G = sum([(c * rho) ** n / factorial(n) for n in range(c)])\n",
        " G += (c * rho) ** c / (1.0 - rho) / factorial(c)\n",
        " return(c * rho) ** c / (factorial(c) * G) * rho / (1.0 - rho) ** 2\n",
        "\n",
        "Q(labda, ES, c=3)/labda  #EW=EQ/labda\n",
        "\n",
        "\n",
        "\n"
      ],
      "execution_count": 12,
      "outputs": [
        {
          "output_type": "execute_result",
          "data": {
            "text/plain": [
              "0.34089273674305215"
            ]
          },
          "metadata": {
            "tags": []
          },
          "execution_count": 12
        }
      ]
    },
    {
      "cell_type": "code",
      "metadata": {
        "id": "U-Uhu4cc7wFo"
      },
      "source": [
        "#6.2.2 \n",
        "c = 2\n",
        " p = [0.4, 0.3, 0.2, 0.05, 0.05]\n",
        " labda = 10.0 / 60 # per hour\n",
        "\n",
        "EL = sum(n * p[n] for n in range(len(p)))\n",
        " EL\n",
        "\n",
        "EQ = sum(max(n - c, 0) * p[n] for n in range(len(p)))\n",
        "EQ\n",
        " W = EQ / labda # in minutes\n",
        " W\n",
        "\n",
        " J = EL / labda # in minutes\n",
        "1 J"
      ],
      "execution_count": null,
      "outputs": []
    },
    {
      "cell_type": "code",
      "metadata": {
        "id": "iNLpZU6o7v25"
      },
      "source": [
        ""
      ],
      "execution_count": null,
      "outputs": []
    }
  ]
}